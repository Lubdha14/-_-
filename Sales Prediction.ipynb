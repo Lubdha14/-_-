{
 "cells": [
  {
   "cell_type": "markdown",
   "id": "e7fa05ad",
   "metadata": {},
   "source": [
    "### Sales Prediction Using Python"
   ]
  },
  {
   "cell_type": "code",
   "execution_count": 1,
   "id": "aadfe129",
   "metadata": {},
   "outputs": [],
   "source": [
    "\n",
    "import pandas as pd\n",
    "import numpy as np\n",
    "import matplotlib.pyplot as plt\n",
    "import seaborn as sns\n",
    "from sklearn.model_selection import train_test_split\n",
    "from sklearn.linear_model import LinearRegression"
   ]
  },
  {
   "cell_type": "code",
   "execution_count": 2,
   "id": "69207667",
   "metadata": {
    "scrolled": true
   },
   "outputs": [
    {
     "name": "stdout",
     "output_type": "stream",
     "text": [
      "   Unnamed: 0     TV  Radio  Newspaper  Sales\n",
      "0           1  230.1   37.8       69.2   22.1\n",
      "1           2   44.5   39.3       45.1   10.4\n",
      "2           3   17.2   45.9       69.3    9.3\n",
      "3           4  151.5   41.3       58.5   18.5\n",
      "4           5  180.8   10.8       58.4   12.9\n"
     ]
    }
   ],
   "source": [
    "data = pd.read_csv(\"F:\\Infobyte(DS)\\Advertising.csv\")\n",
    "print(data.head())"
   ]
  },
  {
   "cell_type": "code",
   "execution_count": 3,
   "id": "be5a007d",
   "metadata": {},
   "outputs": [
    {
     "name": "stdout",
     "output_type": "stream",
     "text": [
      "Unnamed: 0    0\n",
      "TV            0\n",
      "Radio         0\n",
      "Newspaper     0\n",
      "Sales         0\n",
      "dtype: int64\n"
     ]
    }
   ],
   "source": [
    "print(data.isnull().sum())"
   ]
  },
  {
   "cell_type": "code",
   "execution_count": 4,
   "id": "41b5c622",
   "metadata": {},
   "outputs": [
    {
     "data": {
      "image/png": "[encoded data removed]",
      "text/plain": [
       "<Figure size 864x720 with 2 Axes>"
      ]
     },
     "metadata": {},
     "output_type": "display_data"
    }
   ],
   "source": [
    "plt.style.use('seaborn-whitegrid')\n",
    "plt.figure(figsize=(12, 10))\n",
    "sns.heatmap(data.corr())\n",
    "plt.show()"
   ]
  },
  {
   "cell_type": "code",
   "execution_count": 5,
   "id": "20e9b869",
   "metadata": {},
   "outputs": [],
   "source": [
    "x = data.iloc[:,1:4].values"
   ]
  },
  {
   "cell_type": "code",
   "execution_count": 6,
   "id": "8709b925",
   "metadata": {},
   "outputs": [],
   "source": [
    "y = data.iloc[:,4].values"
   ]
  },
  {
   "cell_type": "code",
   "execution_count": 7,
   "id": "ab1921a0",
   "metadata": {},
   "outputs": [],
   "source": [
    "#Seperating training and testing\n",
    "x_train, x_test, y_train, y_test = train_test_split(x,y,train_size = 0.2)"
   ]
  },
  {
   "cell_type": "code",
   "execution_count": 8,
   "id": "4a1dbd99",
   "metadata": {},
   "outputs": [
    {
     "data": {
      "text/plain": [
       "LinearRegression()"
      ]
     },
     "execution_count": 8,
     "metadata": {},
     "output_type": "execute_result"
    }
   ],
   "source": [
    "#Using linear regression model for prediction\n",
    "\n",
    "model = LinearRegression()\n",
    "model.fit(x_train, y_train)"
   ]
  },
  {
   "cell_type": "code",
   "execution_count": 9,
   "id": "6a8c0b3d",
   "metadata": {},
   "outputs": [
    {
     "data": {
      "text/plain": [
       "array([ 9.22185398, 21.9503336 , 12.22405641, 21.54354855, 12.12399327,\n",
       "       20.06080873, 13.85558153, 13.86197282,  8.81640393, 16.23682866,\n",
       "       22.17374104,  9.60917519,  8.68648518,  4.44311118, 15.59116223,\n",
       "       15.82199566,  4.59028682,  7.80958651, 19.28804235, 17.81482681,\n",
       "        4.63055345, 18.28653812, 15.89844405,  8.44290646, 15.73012017,\n",
       "       20.35081328, 18.17550046,  9.77111864, 12.35341746,  9.36764033,\n",
       "       12.36429613,  8.47324313, 22.86854941,  3.8773938 , 23.35641545,\n",
       "       14.61541064,  8.9610986 , 12.86768804, 14.30074803, 14.0130346 ,\n",
       "       10.63073321, 16.54257131, 18.90003827, 10.4446441 , 19.40005227,\n",
       "        7.66851337, 17.6633529 , 20.17201049,  8.90779077, 18.35771184,\n",
       "        7.03545102, 15.33928443, 11.12234203, 14.56976069, 16.75712393,\n",
       "       10.24570681,  8.7903314 ,  9.97854722,  8.37471815, 10.94198172,\n",
       "        6.07436023, 22.62117833,  7.35504961, 16.63835339, 14.32732359,\n",
       "       20.85138493, 20.00596245, 10.28156695,  9.83652457, 15.05088703,\n",
       "       12.6787447 , 22.30542066, 12.63669717, 17.08685373,  5.79669365,\n",
       "       15.59956783, 12.83852807, 21.17903914, 16.49037616, 14.05557253,\n",
       "       17.03145726, 21.11049751, 11.46175893,  6.67911536, 13.6092235 ,\n",
       "       18.5167938 ,  9.87452738, 12.20134783, 12.18085206,  7.42329391,\n",
       "       14.93873901, 17.32913705, 14.10359765, 19.25657122,  7.75908307,\n",
       "       19.88981969,  9.76291262, 16.52094729, 10.73228777, 10.02845522,\n",
       "       19.70682208,  5.82022523, 18.76956398, 16.8952636 , 19.06008517,\n",
       "       16.20966531,  8.11674131, 10.81263312, 14.4211526 , 12.02745502,\n",
       "       15.44484187, 20.48373468, 23.98562293, 17.56367382, 10.06003013,\n",
       "       23.24062897, 17.79453571, 11.11800573, 18.32137759, 14.1621405 ,\n",
       "       11.38659113,  9.90394495, 20.02229132, 14.55423944,  9.87140466,\n",
       "       13.64312739,  6.17966612, 16.80972372, 21.83815772, 11.48629065,\n",
       "        8.16068012,  4.83553834, 19.85485687, 12.35358461,  9.82096517,\n",
       "       17.2036872 , 12.91547784, 21.46788473, 11.68196174, 10.818553  ,\n",
       "        9.3227159 , 16.46707369,  9.62422228, 18.65066937, 13.25025941,\n",
       "        6.20572453,  8.7699441 , 11.11783623, 15.07396319, 14.97024014,\n",
       "       18.23403832, 17.43284568, 13.32719625,  9.72885888, 12.66639763,\n",
       "       16.00669463, 20.66542827, 20.23152459, 14.3114615 ,  7.25316667])"
      ]
     },
     "execution_count": 9,
     "metadata": {},
     "output_type": "execute_result"
    }
   ],
   "source": [
    "y_P = model.predict(x_test)\n",
    "y_P"
   ]
  },
  {
   "cell_type": "code",
   "execution_count": null,
   "id": "bbfb5935",
   "metadata": {},
   "outputs": [],
   "source": []
  }
 ],
 "metadata": {
  "kernelspec": {
   "display_name": "Python 3",
   "language": "python",
   "name": "python3"
  },
  "language_info": {
   "codemirror_mode": {
    "name": "ipython",
    "version": 3
   },
   "file_extension": ".py",
   "mimetype": "text/x-python",
   "name": "python",
   "nbconvert_exporter": "python",
   "pygments_lexer": "ipython3",
   "version": "3.8.8"
  }
 },
 "nbformat": 4,
 "nbformat_minor": 5
}
